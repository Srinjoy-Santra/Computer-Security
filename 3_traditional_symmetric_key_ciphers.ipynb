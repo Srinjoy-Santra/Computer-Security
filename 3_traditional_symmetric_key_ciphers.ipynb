{
  "nbformat": 4,
  "nbformat_minor": 0,
  "metadata": {
    "colab": {
      "name": "3-traditional-symmetric-key-ciphers",
      "provenance": [],
      "collapsed_sections": [],
      "authorship_tag": "ABX9TyOBmHaX9pRE93GGym79g0qd",
      "include_colab_link": true
    },
    "kernelspec": {
      "name": "python3",
      "display_name": "Python 3"
    }
  },
  "cells": [
    {
      "cell_type": "markdown",
      "metadata": {
        "id": "view-in-github",
        "colab_type": "text"
      },
      "source": [
        "<a href=\"https://colab.research.google.com/github/Srinjoy-Santra/Computer-Security/blob/master/3_traditional_symmetric_key_ciphers.ipynb\" target=\"_parent\"><img src=\"https://colab.research.google.com/assets/colab-badge.svg\" alt=\"Open In Colab\"/></a>"
      ]
    },
    {
      "cell_type": "markdown",
      "metadata": {
        "id": "9PohiwOODz-I",
        "colab_type": "text"
      },
      "source": [
        "# Traditional Symmetric Key Cipher\n",
        "\n",
        "The contents are based on the book [Cryptography and Network Security by Forouzan](https://www.amazon.in/Crypt-Network-Security-Forouzan/dp/9339220943/ref=sr_1_1?crid=2KX4D7TQ5H46O&dchild=1&keywords=cryptography+and+network+security+forouzan&qid=1589793253&sprefix=cryptogr%2Caps%2C379&sr=8-1)\n",
        "\n",
        "- Strictly for educational purpose."
      ]
    },
    {
      "cell_type": "markdown",
      "metadata": {
        "id": "8MeI4ArGgPTe",
        "colab_type": "text"
      },
      "source": [
        "\n",
        "If P is the plaintext, C is the ciphertext, and K is the key, \n",
        "- Encryption: $C = E_k(P)$\n",
        "- Decryption: $P = D_k(C)$\n",
        "- In which $D_k(E_k(x)) = E_k(D_k(x)) = x$\n",
        "\n",
        "We assume that Bob creates P1; we prove that P1 = P.\n",
        "![symmetric key cipher](https://drive.google.com/uc?id=1oAw-zvsF7ftzWE0ozM0nM8CNj4hGzUZF)\n",
        "\n",
        "\n",
        "#### Kerckhoff's Principle\n",
        "One should always assume that the adversary, Eve, knows the encryption/decryption algorithm. The resistance of the cipher to attack must be based only on the secrecy of the key. \n",
        "\n",
        "#### Terminologies\n",
        "As cryptography is the science and art of creating secret codes,\n",
        "cryptanalysis is the science and art of breaking those codes. \n",
        "\n",
        "#### Cryptanalysis Attacks\n",
        "\n",
        "1. Ciphertext-Only Attack ![Ciphertext-Only Attack](https://drive.google.com/uc?id=1mXe8-gpK6SvhbT56WhKzcIm21I36V953)\n",
        "2. Known-Plaintext Attack ![Known-Plaintext Attack](https://drive.google.com/uc?id=1E7VpOzISDQtE0itcjwpl9O3qvAfG38KP)\n",
        "3. Chosen-Plaintext Attack ![Chosen-Plaintext Attack](https://drive.google.com/uc?id=1t8HzXQPIrlTUNS_MR1XbkRvgJmIDZlm2)\n",
        "4. Chosen-Ciphertext Attack ![Chosen-Ciphertext Attack](https://drive.google.com/uc?id=1F7QyqI2cRp-0PRUIwN0H7RZ1M-vakbV1)\n",
        "\n"
      ]
    },
    {
      "cell_type": "markdown",
      "metadata": {
        "id": "b0IZ7szI6dAl",
        "colab_type": "text"
      },
      "source": [
        "## Substitution Ciphers\n",
        "A **substitution cipher** replaces one symbol with another.\n",
        "It can be categorized as \n",
        "\n",
        "1.   Monoalphabetic Ciphers\n",
        "2.   Polyalphabetic Ciphers\n",
        "\n",
        "In **monoalphabetic substitution**, the relationship between a symbol in the plaintext to a symbol in the ciphertext is always one-to-one.\n",
        "\n",
        "It can be categorized into\n",
        "\n",
        "1.   Additive/Shift/Ceaser cipher\n",
        "2.   Multiplicative cipher\n",
        "3.   Affine cipher\n",
        "\n",
        "**Additive cipher** : plaintext, ciphertext, and key are integers in Z26.\n",
        "\n",
        "\n",
        "\n",
        "\n",
        "\n",
        "\n",
        "\n",
        "\n"
      ]
    },
    {
      "cell_type": "code",
      "metadata": {
        "id": "To_awXmA6Bmt",
        "colab_type": "code",
        "outputId": "168464e6-1153-46e2-fa1a-6e33d3f31aea",
        "colab": {
          "base_uri": "https://localhost:8080/",
          "height": 70
        }
      },
      "source": [
        "# Additive cipher\n",
        "def ltr_to_num(ltr):\n",
        "  return ord(ltr) - 97\n",
        "\n",
        "def num_to_ltr(num):\n",
        "  return chr(num + 97)\n",
        "\n",
        "class AdditiveCipher:\n",
        "  def encrypt(self, plaintext, key=3):\n",
        "    ciphertext = ''\n",
        "    for p in plaintext:\n",
        "      ciphertext += num_to_ltr( ( ltr_to_num(p) + key ) % 26 )\n",
        "    return ciphertext\n",
        "\n",
        "  def decrypt(self, ciphertext, key=3):\n",
        "    plaintext = ''\n",
        "    for p in ciphertext:\n",
        "      plaintext += num_to_ltr( ( ltr_to_num(p) - key ) % 26 )\n",
        "    return plaintext\n",
        "\n",
        "print(\"encrypt 'hello', key=15, =>\",AdditiveCipher().encrypt('hello', 15))\n",
        "print(\"encrypt 'wtaad', key=15, =>\",AdditiveCipher().decrypt('wtaad', 15))\n",
        "print(\"encrypt 'caesar', key=3, =>\",AdditiveCipher().encrypt('caesar'))"
      ],
      "execution_count": 23,
      "outputs": [
        {
          "output_type": "stream",
          "text": [
            "encrypt 'hello', key=15, => wtaad\n",
            "encrypt 'wtaad', key=15, => hello\n",
            "encrypt 'caesar', key=3, => fdhvdu\n"
          ],
          "name": "stdout"
        }
      ]
    },
    {
      "cell_type": "markdown",
      "metadata": {
        "id": "TGqVpF9FGU24",
        "colab_type": "text"
      },
      "source": [
        "Eve has intercepted the ciphertext “UVACLYFZLJBYL”. Show how she can use a brute-force attack to break the cipher"
      ]
    },
    {
      "cell_type": "code",
      "metadata": {
        "id": "FUQ3rygy6kKB",
        "colab_type": "code",
        "colab": {}
      },
      "source": [
        "ciphertext = 'UVACLYFZLJBYL'.lower()"
      ],
      "execution_count": 0,
      "outputs": []
    },
    {
      "cell_type": "code",
      "metadata": {
        "id": "0PL-uCoYEfg8",
        "colab_type": "code",
        "outputId": "2c9d3608-151a-47e9-da2c-1cabe792b5d1",
        "colab": {
          "base_uri": "https://localhost:8080/",
          "height": 176
        }
      },
      "source": [
        "for key in range(1,10):\n",
        "  print(\"decrypt, key = \"+str(key)+\"=>\",AdditiveCipher().decrypt(ciphertext,key))"
      ],
      "execution_count": 25,
      "outputs": [
        {
          "output_type": "stream",
          "text": [
            "decrypt, key = 1=> tuzbkxeykiaxk\n",
            "decrypt, key = 2=> styajwdxjhzwj\n",
            "decrypt, key = 3=> rsxzivcwigyvi\n",
            "decrypt, key = 4=> qrwyhubvhfxuh\n",
            "decrypt, key = 5=> pqvxgtaugewtg\n",
            "decrypt, key = 6=> opuwfsztfdvsf\n",
            "decrypt, key = 7=> notverysecure\n",
            "decrypt, key = 8=> mnsudqxrdbtqd\n",
            "decrypt, key = 9=> lmrtcpwqcaspc\n"
          ],
          "name": "stdout"
        }
      ]
    },
    {
      "cell_type": "markdown",
      "metadata": {
        "id": "0VVPSGjKzZsE",
        "colab_type": "text"
      },
      "source": [
        "Eve has intercepted the following ciphertext. Using a statistical attack, find the plaintext.\n",
        "XLILSYWIMWRSAJSVWEPIJSVJSYVQMPPMSRHSPPEVWMXMWASVX-LQSVILY-VVCFIJSVIXLIWIPPIVVIGIMZIWQSVISJJIVW "
      ]
    },
    {
      "cell_type": "code",
      "metadata": {
        "id": "N-oPKg3ZKF_T",
        "colab_type": "code",
        "outputId": "8e7cc318-b21e-4626-a69e-d44a686b33d4",
        "colab": {
          "base_uri": "https://localhost:8080/",
          "height": 34
        }
      },
      "source": [
        "ciphertext = 'XLILSYWIMWRSAJSVWEPIJSVJSYVQMPPMSRHSPPEVWMXMWASVX-LQSVILY-VVCFIJSVIXLIWIPPIVVIGIMZIWQSVISJJIVW'.lower()\n",
        "freq = {i : ciphertext.count(i) for i in set(ciphertext)} \n",
        "print('Frequencies ', freq)"
      ],
      "execution_count": 26,
      "outputs": [
        {
          "output_type": "stream",
          "text": [
            "Frequencies  {'c': 1, 's': 12, 'm': 6, 'j': 6, 'h': 1, 'l': 5, 'i': 14, 'w': 8, 'r': 2, 'v': 13, 'p': 7, 'a': 2, 'e': 2, 'q': 3, 'f': 1, 'y': 3, 'g': 1, 'z': 1, '-': 2, 'x': 4}\n"
          ],
          "name": "stdout"
        }
      ]
    },
    {
      "cell_type": "markdown",
      "metadata": {
        "id": "CquJHL-_H42x",
        "colab_type": "text"
      },
      "source": [
        "'i' is the most common, may be 'e'.\n",
        "Since, I = 14, V =13, S =12"
      ]
    },
    {
      "cell_type": "code",
      "metadata": {
        "id": "3pctWsdHKXkc",
        "colab_type": "code",
        "outputId": "5cb8b80c-b72d-4a1c-a669-882aa7bb2a49",
        "colab": {
          "base_uri": "https://localhost:8080/",
          "height": 52
        }
      },
      "source": [
        "dif = ord('i')-ord('e')\n",
        "print('diff', dif)\n",
        "print('decrypt', AdditiveCipher().decrypt(ciphertext, dif))"
      ],
      "execution_count": 27,
      "outputs": [
        {
          "output_type": "stream",
          "text": [
            "diff 4\n",
            "decrypt thehouseisnowforsaleforfourmilliondollarsitiswortwhmorehuwrrybeforethesellerreceivesmoreoffers\n"
          ],
          "name": "stdout"
        }
      ]
    },
    {
      "cell_type": "markdown",
      "metadata": {
        "id": "vz0nBYUCMTEQ",
        "colab_type": "text"
      },
      "source": [
        "**Mulltiplicative Cipher**\n",
        "the plaintext and ciphertext are integers in Z26; the key is an integer in Z26* .\n",
        "Z26* set has only 12 members: 1, 3, 5, 7, 9, 11, 15, 17, 19, 21, 23, 25.\n",
        "Others have one-to-many mapping thus decryption is not possible.\n",
        "\n"
      ]
    },
    {
      "cell_type": "code",
      "metadata": {
        "id": "xmZTSmY82_tR",
        "colab_type": "code",
        "colab": {}
      },
      "source": [
        "# Multiplicative inverse https://www.geeksforgeeks.org/multiplicative-inverse-under-modulo-m/\n",
        "def modInverse(a, m=26) : \n",
        "    m0 = m \n",
        "    y = 0\n",
        "    x = 1\n",
        "  \n",
        "    if (m == 1) : \n",
        "        return 0\n",
        "  \n",
        "    while (a > 1) : \n",
        "  \n",
        "        # q is quotient \n",
        "        q = a // m \n",
        "  \n",
        "        t = m \n",
        "  \n",
        "        # m is remainder now, process \n",
        "        # same as Euclid's algo \n",
        "        m = a % m \n",
        "        a = t \n",
        "        t = y \n",
        "  \n",
        "        # Update x and y \n",
        "        y = x - q * y \n",
        "        x = t \n",
        "  \n",
        "  \n",
        "    # Make x positive \n",
        "    if (x < 0) : \n",
        "        x = x + m0 \n",
        "  \n",
        "    return x "
      ],
      "execution_count": 0,
      "outputs": []
    },
    {
      "cell_type": "code",
      "metadata": {
        "id": "1s4QGh2mKaeV",
        "colab_type": "code",
        "outputId": "5c0a7e25-7008-471e-e318-47ef04f012c5",
        "colab": {
          "base_uri": "https://localhost:8080/",
          "height": 52
        }
      },
      "source": [
        "class MultiplicativeCipher:\n",
        "  def encrypt(self, plaintext, key):\n",
        "    ciphertext = ''\n",
        "    for p in plaintext:\n",
        "      ciphertext += num_to_ltr( int( ltr_to_num(p) * key ) % 26 )\n",
        "    return ciphertext\n",
        "\n",
        "  def decrypt(self, ciphertext, key):\n",
        "    plaintext = ''\n",
        "    for p in ciphertext:\n",
        "      plaintext += num_to_ltr( round( ltr_to_num(p) * modInverse(key) ) % 26 )\n",
        "    return plaintext\n",
        "\n",
        "print(\"encrypt 'hello', key=7, =>\", MultiplicativeCipher().encrypt('hello', 7))\n",
        "print(\"encrypt 'xczzu', key=7, =>\", MultiplicativeCipher().decrypt('xczzu', 7))"
      ],
      "execution_count": 29,
      "outputs": [
        {
          "output_type": "stream",
          "text": [
            "encrypt 'hello', key=7, => xczzu\n",
            "encrypt 'xczzu', key=7, => hello\n"
          ],
          "name": "stdout"
        }
      ]
    },
    {
      "cell_type": "markdown",
      "metadata": {
        "id": "V_bPBS9MAM9J",
        "colab_type": "text"
      },
      "source": [
        "### Affine Cipher\n",
        "the keys\n",
        "k1 is an integer in Z26* and k2 is an integer in Z26.\n",
        "\n",
        "*   C = (P X k1 + k2) mod26\n",
        "*   P = ( (C-k2) * (1/k1) ) mod26\n",
        "\n",
        "The affine cipher uses a pair of keys in which the first key is from Z26* and the second is from Z26.\n"
      ]
    },
    {
      "cell_type": "code",
      "metadata": {
        "id": "lU7dZkvAQii9",
        "colab_type": "code",
        "outputId": "297eae21-b7ec-4107-a40b-a9803d39f4ba",
        "colab": {
          "base_uri": "https://localhost:8080/",
          "height": 52
        }
      },
      "source": [
        "class AffineCipher:\n",
        "  def encrypt(self, plaintext, keys):\n",
        "    k1, k2 = keys\n",
        "    ciphertext = ''\n",
        "    for p in plaintext:\n",
        "      ciphertext += num_to_ltr( (int(ltr_to_num(p))*k1 + k2) % 26 )\n",
        "    return ciphertext\n",
        "\n",
        "  def decrypt(self, ciphertext, keys):\n",
        "    k1, k2 = keys\n",
        "    plaintext = ''\n",
        "    for p in ciphertext:\n",
        "      plaintext += num_to_ltr( round( (ltr_to_num(p) - k2) * modInverse(k1) ) % 26 )\n",
        "    return plaintext\n",
        "\n",
        "print(\"encrypt 'hello', key=7,2 =>\", AffineCipher().encrypt('hello', [7,2]))\n",
        "print(\"encrypt 'zebbw', key=7,2 =>\", AffineCipher().decrypt('zebbw', [7,2]))"
      ],
      "execution_count": 30,
      "outputs": [
        {
          "output_type": "stream",
          "text": [
            "encrypt 'hello', key=7,2 => zebbw\n",
            "encrypt 'zebbw', key=7,2 => hello\n"
          ],
          "name": "stdout"
        }
      ]
    },
    {
      "cell_type": "markdown",
      "metadata": {
        "id": "sMF1A03vDwcl",
        "colab_type": "text"
      },
      "source": [
        "### Monoalphabetic Substitution Cipher\n",
        "Affine ciphaer have small key domains, therfore are vulnrable to brute-force attack\n",
        "\n",
        "A better solution is to create a mapping between each plaintext character and the corresponding ciphertext character. "
      ]
    },
    {
      "cell_type": "code",
      "metadata": {
        "id": "mVIhuKyRDr2u",
        "colab_type": "code",
        "colab": {}
      },
      "source": [
        "pt_to_ct = {\n",
        "    'a':'n',\n",
        "    'b':'o',\n",
        "    'c':'a',\n",
        "    'd':'t',\n",
        "    'e':'r',\n",
        "    'f':'b',\n",
        "    'g':'e',\n",
        "    'h':'c',\n",
        "    'i':'f',\n",
        "    'j':'u',\n",
        "    'k':'x',\n",
        "    'l':'d',\n",
        "    'm':'q',\n",
        "    'n':'g',\n",
        "    'o':'y',\n",
        "    'p':'l',\n",
        "    'q':'k',\n",
        "    'r':'h',\n",
        "    's':'v',\n",
        "    't':'i',\n",
        "    'u':'j',\n",
        "    'v':'m',\n",
        "    'w':'p',\n",
        "    'x':'z',\n",
        "    'y':'s',\n",
        "    'z':'w'\n",
        "}"
      ],
      "execution_count": 0,
      "outputs": []
    },
    {
      "cell_type": "code",
      "metadata": {
        "id": "V5Yn1q2FEjLw",
        "colab_type": "code",
        "outputId": "5d11e6e6-a01b-4f14-8e65-f70b6dac71c1",
        "colab": {
          "base_uri": "https://localhost:8080/",
          "height": 52
        }
      },
      "source": [
        "plaintext = 'this message is easy to encrypt but hard to find the key'\n",
        "ciphertext = ''\n",
        "for p in plaintext.replace(' ',''):\n",
        "  ciphertext += pt_to_ct[p]\n",
        "print(plaintext + \"\\n\" + ciphertext)"
      ],
      "execution_count": 32,
      "outputs": [
        {
          "output_type": "stream",
          "text": [
            "this message is easy to encrypt but hard to find the key\n",
            "icfvqrvvnerfvrnvsiyrgahsliojicnhtiybfgticrxrs\n"
          ],
          "name": "stdout"
        }
      ]
    },
    {
      "cell_type": "markdown",
      "metadata": {
        "id": "M1uW6gkCGiFi",
        "colab_type": "text"
      },
      "source": [
        "### Polyalphabetic Ciphers\n",
        "\n",
        "In polyalphabetic substitution, each occurrence of a character may have a different substitute. The relationship between a character in the plaintext to a character in the ciphertext is one-to-many. \n",
        "\n",
        "### Auto Key cipher\n",
        "\n",
        "*   P = p1p2p3...\n",
        "*   C = c1c2c3...\n",
        "*   k = (k1,p1,p2,...)\n",
        "\n",
        "Ci = (Pi + ki) mod26\n",
        "Pi = (Ci - ki) mod26\n"
      ]
    },
    {
      "cell_type": "code",
      "metadata": {
        "id": "ZX_OvqaZHUqJ",
        "colab_type": "code",
        "outputId": "29dde3d0-8b3a-4597-be2d-c5cfed2eb346",
        "colab": {
          "base_uri": "https://localhost:8080/",
          "height": 52
        }
      },
      "source": [
        "class AutoKeyCipher:\n",
        "  def encrypt(self, plaintext, key):\n",
        "    # convert to lowercase,\n",
        "    # remove spaces\n",
        "    plaintext = plaintext.lower().replace(' ','')\n",
        "    # convert string to list of chars [only for Python version >3.5]\n",
        "    # convert chars from ascii to digits\n",
        "    plaintext = [ltr_to_num(x) for x in [*plaintext]]\n",
        "    # add initial ket to keystream\n",
        "    keystream = [key]\n",
        "    # update keystream with plaintext digits subsequently\n",
        "    keystream.extend(plaintext[:len(plaintext) -1])\n",
        "    # add digits from plaintext and keystream\n",
        "    # find modulo 26\n",
        "    # convert digit to letter \n",
        "    ciphertext =  [num_to_ltr(sum(x)%26) for x in zip(plaintext, keystream)]\n",
        "    # convert list to string\n",
        "    ciphertext = ''.join(ciphertext)\n",
        "    return ciphertext\n",
        "\n",
        "  def decrypt(self, ciphertext, key):\n",
        "    plaintext = ''\n",
        "    # convert string to list of chars [only for >3.5]\n",
        "    # convert digits to ascii  \n",
        "    for p in ciphertext:\n",
        "      key = (ltr_to_num(p) - key%26)%26\n",
        "      plaintext += num_to_ltr(key)\n",
        "\n",
        "    return plaintext\n",
        "\n",
        "print(\"encrypt 'Attack is today', key=12 =>\", AutoKeyCipher().encrypt('Attack is today', 12))\n",
        "print(\"decrypt 'mtmtcmsalhrdy', key=12 =>\", AutoKeyCipher().decrypt('mtmtcmsalhrdy', 12))\n",
        "\n"
      ],
      "execution_count": 33,
      "outputs": [
        {
          "output_type": "stream",
          "text": [
            "encrypt 'Attack is today', key=12 => mtmtcmsalhrdy\n",
            "decrypt 'mtmtcmsalhrdy', key=12 => attackistoday\n"
          ],
          "name": "stdout"
        }
      ]
    },
    {
      "cell_type": "markdown",
      "metadata": {
        "id": "Bw_aV9B9WKwh",
        "colab_type": "text"
      },
      "source": [
        "### Playfair cipher\n",
        "\n",
        "[Hindi Video](https://www.youtube.com/watch?v=1ZPr1O-1IkQ)"
      ]
    },
    {
      "cell_type": "code",
      "metadata": {
        "id": "y0VxxZcv5_Cq",
        "colab_type": "code",
        "colab": {}
      },
      "source": [
        "import numpy as np"
      ],
      "execution_count": 0,
      "outputs": []
    },
    {
      "cell_type": "code",
      "metadata": {
        "id": "ITqUmd1hJMYW",
        "colab_type": "code",
        "outputId": "77d3d2da-7be6-45e0-caf1-9eb981e9f2c4",
        "colab": {
          "base_uri": "https://localhost:8080/",
          "height": 283
        }
      },
      "source": [
        "default_keyword = 'lgdba qmhec urnif xvsok zywtp'.replace(' ','')\n",
        "def create_pc_key(keyword=default_keyword):\n",
        "  \n",
        "  # replace j with i (both are used intechangeably)\n",
        "  # https://stackoverflow.com/questions/1653970/does-python-have-an-ordered-set\n",
        "  # create an ordered set of keyword string chars\n",
        "  keyword = list(dict.fromkeys([*keyword.replace('j','i')]).keys())\n",
        "\n",
        "  # remove characters already in keyword\n",
        "  z = [*'abcdefghiklmnopqrstuvwxyz']\n",
        "\n",
        "  for y in keyword:\n",
        "    if y in z: z.remove(y)\n",
        " \n",
        "  arr = np.zeros((5,5), dtype=np.int8)\n",
        "  j=0\n",
        "  for i in range(25):\n",
        "    try:\n",
        "      k = keyword[i]\n",
        "    except:\n",
        "      if len(z) is not 0:\n",
        "        k = z[j]\n",
        "        j+=1\n",
        "    \n",
        "    arr[i//5,i%5]=ltr_to_num(k)\n",
        "\n",
        "  \n",
        "  return arr\n",
        "\n",
        "print(create_pc_key('playfairexample'))\n",
        "print(create_pc_key())\n",
        "print(create_pc_key('pascal'))"
      ],
      "execution_count": 35,
      "outputs": [
        {
          "output_type": "stream",
          "text": [
            "[[15 11  0 24  5]\n",
            " [ 8 17  4 23 12]\n",
            " [ 1  2  3  6  7]\n",
            " [10 13 14 16 18]\n",
            " [19 20 21 22 25]]\n",
            "[[11  6  3  1  0]\n",
            " [16 12  7  4  2]\n",
            " [20 17 13  8  5]\n",
            " [23 21 18 14 10]\n",
            " [25 24 22 19 15]]\n",
            "[[15  0 18  2 11]\n",
            " [ 1  3  4  5  6]\n",
            " [ 7  8 10 12 13]\n",
            " [14 16 17 19 20]\n",
            " [21 22 23 24 25]]\n"
          ],
          "name": "stdout"
        }
      ]
    },
    {
      "cell_type": "code",
      "metadata": {
        "id": "SpbTtE9vvlHo",
        "colab_type": "code",
        "outputId": "e5074e7e-0c05-4764-bf2d-316cdc846325",
        "colab": {
          "base_uri": "https://localhost:8080/",
          "height": 87
        }
      },
      "source": [
        "class PlayfairCipher:\n",
        "  def encrypt(self, plaintext, key, dummy='x'):\n",
        "    # convert to lowercase,\n",
        "    # remove spaces\n",
        "    plaintext = plaintext.lower().replace(' ','')\n",
        "    # string to list of chars\n",
        "    plaintext = [*plaintext]\n",
        "    \n",
        "    #search for repeating characters\n",
        "    i=0\n",
        "    while True:\n",
        "      try:\n",
        "        # Add dummy char for consecutive repeating char\n",
        "        if i>0 and plaintext[i] == plaintext[i-1]:\n",
        "          plaintext.insert(i,dummy)\n",
        "        i+=1\n",
        "      except:\n",
        "        break  \n",
        "    # Add dummy char for odd length\n",
        "    if i % 2 is 1:\n",
        "          plaintext.insert(i,dummy)\n",
        "\n",
        "    ciphertext = \"\"\n",
        "    for i in range(1,len(plaintext), 2):\n",
        "      prv = ltr_to_num(plaintext[i-1])\n",
        "      prv_r,prv_c = np.where(key == ('i' if prv == 'j' else prv))\n",
        "      nxt = ltr_to_num(plaintext[i])\n",
        "      nxt_r,nxt_c = np.where(key == ('i' if nxt == 'j' else nxt))\n",
        "      # both in same row\n",
        "      if prv_r == nxt_r:\n",
        "        ciphertext += num_to_ltr(key[prv_r,(prv_c+1)%5])\n",
        "        ciphertext += num_to_ltr(key[nxt_r,(nxt_c+1)%5])\n",
        "      # both in same column\n",
        "      elif prv_c == nxt_c:\n",
        "        ciphertext += num_to_ltr(key[(prv_r+1)%5,prv_c])\n",
        "        ciphertext += num_to_ltr(key[(nxt_r+1)%5,nxt_c])\n",
        "      else:\n",
        "        ciphertext += num_to_ltr(key[prv_r,nxt_c])\n",
        "        ciphertext += num_to_ltr(key[nxt_r,prv_c])\n",
        "    return ciphertext\n",
        "\n",
        "  def decrypt(self, ciphertext, key):\n",
        "    plaintext = ''\n",
        "    # string to list of chars\n",
        "    ciphertext = [*ciphertext]\n",
        "\n",
        "    for i in range(1,len(ciphertext), 2):\n",
        "      prv = ltr_to_num(ciphertext[i-1])\n",
        "      prv_r,prv_c = np.where(key == ('i' if prv == 'j' else prv))\n",
        "      nxt = ltr_to_num(ciphertext[i])\n",
        "      nxt_r,nxt_c = np.where(key == ('i' if nxt == 'j' else nxt))\n",
        "      # both in same row\n",
        "      if prv_r == nxt_r:\n",
        "        plaintext += num_to_ltr(key[prv_r,(prv_c-1)%5])\n",
        "        plaintext += num_to_ltr(key[nxt_r,(nxt_c-1)%5])\n",
        "      # both in same column\n",
        "      elif prv_c == nxt_c:\n",
        "        plaintext += num_to_ltr(key[(prv_r-1)%5,prv_c])\n",
        "        plaintext += num_to_ltr(key[(nxt_r-1)%5,nxt_c])\n",
        "      else:\n",
        "        plaintext += num_to_ltr(key[prv_r,nxt_c])\n",
        "        plaintext += num_to_ltr(key[nxt_r,prv_c])\n",
        "    return plaintext\n",
        "\n",
        "\n",
        "print(\"encrypt 'Hello', key=default =>\", PlayfairCipher().encrypt('hello', create_pc_key()))\n",
        "print(\"decrypt 'ecqzbx', key=default =>\", PlayfairCipher().decrypt('ecqzbx', create_pc_key()))\n",
        "\n",
        "print(\"encrypt 'The key is hidden under the doorpad', key='guidance' =>\", PlayfairCipher().encrypt('The key is hidden under the doorpad', create_pc_key('guidance')))\n",
        "print(\"decrypt 'poclbxdrlgiyibcgbglxpobilzlttgiy', key=default =>\", PlayfairCipher().decrypt('poclbxdrlgiyibcgbglxpobilzlttgiy', create_pc_key('guidance')))"
      ],
      "execution_count": 36,
      "outputs": [
        {
          "output_type": "stream",
          "text": [
            "encrypt 'Hello', key=default => ecqzbx\n",
            "decrypt 'ecqzbx', key=default => helxlo\n",
            "encrypt 'The key is hidden under the doorpad', key='guidance' => poclbxdrlgiyibcgbglxpobilzlttgiy\n",
            "decrypt 'poclbxdrlgiyibcgbglxpobilzlttgiy', key=default => thekeyishidxdenunderthedoxorpadx\n"
          ],
          "name": "stdout"
        }
      ]
    },
    {
      "cell_type": "code",
      "metadata": {
        "id": "APlhJbfYVlFT",
        "colab_type": "code",
        "outputId": "5d081df3-628a-4d30-c5ab-952d60c947e9",
        "colab": {
          "base_uri": "https://localhost:8080/",
          "height": 34
        }
      },
      "source": [
        "keyword = 'manchesterbluffs'\n",
        "message = 'Playfair'\n",
        "print(PlayfairCipher().encrypt(message, create_pc_key(keyword)))"
      ],
      "execution_count": 37,
      "outputs": [
        {
          "output_type": "stream",
          "text": [
            "idcwunpe\n"
          ],
          "name": "stdout"
        }
      ]
    },
    {
      "cell_type": "markdown",
      "metadata": {
        "id": "Gfsc5y9se-dt",
        "colab_type": "text"
      },
      "source": [
        "### Vignere Cipher\n",
        "\n",
        "$P = P_1P_2P_3...$\n",
        "\n",
        "$C = C_1C_2C_3...$\n",
        "\n",
        "$K = (k1,p1,p2,...)$\n",
        "\n",
        "$C_i = (P_i + k_i) mod 26 ; P_i = (C_i - k_i) mod 26$\n",
        "\n",
        "can be seen as combinations of m additive ciphers"
      ]
    },
    {
      "cell_type": "code",
      "metadata": {
        "id": "LF53jH2bAF5-",
        "colab_type": "code",
        "outputId": "71883fee-ed64-4033-c106-52b40f381310",
        "colab": {
          "base_uri": "https://localhost:8080/",
          "height": 52
        }
      },
      "source": [
        "class VignereCipher:\n",
        "  def encrypt(self, plaintext, keyword):\n",
        "    # convert to lowercase,\n",
        "    # remove spaces\n",
        "    plaintext = plaintext.lower().replace(' ','')\n",
        "    keyword = keyword.lower().replace(' ','')\n",
        "\n",
        "    while len(keyword) < len(plaintext):\n",
        "      keyword += keyword\n",
        "\n",
        "    # string to list of chars\n",
        "    plaintext = [*plaintext]\n",
        "    keyword = [*keyword]\n",
        "\n",
        "    # make keyword length equal to plaintext\n",
        "    keyword = keyword[:len(plaintext)]\n",
        "\n",
        "    # converting to chars to number equivalent\n",
        "    plaintext = np.array([ltr_to_num(x) for x in plaintext])\n",
        "    keyword = np.array([ltr_to_num(x) for x in keyword])\n",
        "\n",
        "    ciphertext = (plaintext + keyword) % 26\n",
        "\n",
        "    ciphertext = ''.join([num_to_ltr(x) for x in ciphertext])\n",
        "\n",
        "    return ciphertext\n",
        "\n",
        "  def decrypt(self, ciphertext, keyword):\n",
        "    \n",
        "    while len(keyword) < len(ciphertext):\n",
        "      keyword += keyword\n",
        "\n",
        "    # string to list of chars\n",
        "    ciphertext = [*ciphertext]\n",
        "    keyword = [*keyword]\n",
        "\n",
        "    # make keyword length equal to ciphertext\n",
        "    keyword = keyword[:len(ciphertext)]\n",
        "\n",
        "    # converting to chars to number equivalent\n",
        "    ciphertext = np.array([ltr_to_num(x) for x in ciphertext])\n",
        "    keyword = np.array([ltr_to_num(x) for x in keyword])\n",
        "\n",
        "    plaintext = ((ciphertext+26) - keyword)%26\n",
        "    plaintext = ''.join([num_to_ltr(x) for x in plaintext])\n",
        "    return plaintext\n",
        "\n",
        "\n",
        "print(\"encrypt 'She is listening', key='Pascal' =>\", VignereCipher().encrypt('She is listening', 'Pascal'))\n",
        "print(\"decrypt 'hhwkswxslgntcg', key=pascal =>\", VignereCipher().decrypt('hhwkswxslgntcg', 'pascal'))"
      ],
      "execution_count": 38,
      "outputs": [
        {
          "output_type": "stream",
          "text": [
            "encrypt 'She is listening', key='Pascal' => hhwkswxslgntcg\n",
            "decrypt 'hhwkswxslgntcg', key=pascal => sheislistening\n"
          ],
          "name": "stdout"
        }
      ]
    },
    {
      "cell_type": "markdown",
      "metadata": {
        "id": "oRS9DFDeqBKT",
        "colab_type": "text"
      },
      "source": [
        "### Hill Cipher\n",
        "\n",
        "Key matrix needs to have a multiplicative inverse.\n",
        "\n",
        "- C = P*K\n",
        "- P = C*(1/K)"
      ]
    },
    {
      "cell_type": "code",
      "metadata": {
        "id": "iMY4gZTFFoAi",
        "colab_type": "code",
        "outputId": "a823d698-4a8c-4cf6-ccb4-608a6660b627",
        "colab": {
          "base_uri": "https://localhost:8080/",
          "height": 34
        }
      },
      "source": [
        "# for alphabets\n",
        "def inverse_matrix(x):\n",
        "  determinant = np.linalg.det(x)\n",
        "  return determinant\n",
        "\n",
        "arr = np.array([[3,2],[5,7]])\n",
        "# np.array([9,7,11,13,4,7,5,6,2,21,14,9,3,23,21,8]).reshape(4,4)\n",
        "print(inverse_matrix(arr))"
      ],
      "execution_count": 39,
      "outputs": [
        {
          "output_type": "stream",
          "text": [
            "11.000000000000002\n"
          ],
          "name": "stdout"
        }
      ]
    },
    {
      "cell_type": "code",
      "metadata": {
        "id": "OAAG7ujrqXRd",
        "colab_type": "code",
        "colab": {}
      },
      "source": [
        "import math\n",
        "class HillCipher:\n",
        "  def encrypt(self, plaintext, keyword):\n",
        "    # convert to lowercase,\n",
        "    # remove spaces\n",
        "    plaintext = plaintext.lower().replace(' ','')\n",
        "    keyword = keyword.lower().replace(' ','')\n",
        "\n",
        "    while len(keyword) < len(plaintext):\n",
        "      keyword += keyword\n",
        "\n",
        "    # string to list of chars\n",
        "    plaintext = [*plaintext]\n",
        "    keyword = [*keyword]\n",
        "\n",
        "    # make keyword length equal to plaintext\n",
        "    keyword = keyword[:len(plaintext)]\n",
        "\n",
        "    # converting to chars to number equivalent\n",
        "    plaintext = np.array([ltr_to_num(x) for x in plaintext])\n",
        "    keyword = np.array([ltr_to_num(x) for x in keyword])\n",
        "\n",
        "    ciphertext = (plaintext + keyword) % 26\n",
        "\n",
        "    ciphertext = ''.join([num_to_ltr(x) for x in ciphertext])\n",
        "\n",
        "    return ciphertext\n",
        "\n",
        "  def decrypt(self, ciphertext, keyword):\n",
        "    \n",
        "    while len(keyword) < len(ciphertext):\n",
        "      keyword += keyword\n",
        "\n",
        "    # string to list of chars\n",
        "    ciphertext = [*ciphertext]\n",
        "    keyword = [*keyword]\n",
        "\n",
        "    # make keyword length equal to ciphertext\n",
        "    keyword = keyword[:len(ciphertext)]\n",
        "\n",
        "    # converting to chars to number equivalent\n",
        "    ciphertext = np.array([ltr_to_num(x) for x in ciphertext])\n",
        "    keyword = np.array([ltr_to_num(x) for x in keyword])\n",
        "\n",
        "    plaintext = ((ciphertext+26) - keyword)%26\n",
        "    plaintext = ''.join([num_to_ltr(x) for x in plaintext])\n",
        "    return plaintext\n",
        "\n",
        "  def g_encrypt(self, plaintext, keyword, n_row):\n",
        "    # convert to lowercase,\n",
        "    # remove spaces\n",
        "    plaintext = plaintext.lower().replace(' ','')\n",
        "    keyword = keyword.lower().replace(' ','')\n",
        "\n",
        "    n_col = math.ceil(len(plaintext)/n_row)\n",
        "    z = 'z'*(n_col - len(plaintext)%n_col)\n",
        "\n",
        "    plaintext += z\n",
        "    pt = np.array([ltr_to_num(x) for x in plaintext]).reshape(n_row, n_col)\n",
        "    kw = np.array([ltr_to_num(x) for x in keyword]).reshape(n_col, n_col)\n",
        "    #print(np.linalg.inv(kw))\n",
        "    ct = np.matmul(pt,kw)\n",
        "    print(ct,pt,kw)\n",
        "    ct  = ct%26\n",
        "    \n",
        "    ciphertext = ct.flatten('C').tolist()\n",
        "    ciphertext = ''.join([num_to_ltr(x) for x in ciphertext])\n",
        "    \n",
        "    return ciphertext\n",
        "\n",
        "  def g_decrypt(self, ciphertext, keyword, n_row):\n",
        "    # convert to lowercase,\n",
        "    # remove spaces\n",
        "    ciphertext = ciphertext.lower().replace(' ','')\n",
        "    keyword = keyword.lower().replace(' ','')\n",
        "\n",
        "    n_col = math.ceil(len(ciphertext)/n_row)\n",
        "    # z = 'z'*(n_col - len(plaintext)%n_col)\n",
        "\n",
        "    #plaintext += z\n",
        "    ct = np.array([ltr_to_num(x) for x in ciphertext]).reshape(n_row, n_col)\n",
        "    kw = np.array([ltr_to_num(x) for x in keyword]).reshape(n_col, n_col)\n",
        "    kwi = np.linalg.inv(kw)\n",
        "    pt = np.matmul(ct,kwi)\n",
        "    print(pt,ct,kwi)\n",
        "    pt  = pt%26\n",
        "    \n",
        "    plaintext = pt.flatten('C').tolist()\n",
        "    plaintext = ''.join([num_to_ltr(x) for x in plaintext])\n",
        "    \n",
        "    return plaintext\n"
      ],
      "execution_count": 0,
      "outputs": []
    },
    {
      "cell_type": "code",
      "metadata": {
        "id": "r2ecmzft8x4V",
        "colab_type": "code",
        "outputId": "d536d195-d04e-4836-e250-44fa28649877",
        "colab": {
          "base_uri": "https://localhost:8080/",
          "height": 212
        }
      },
      "source": [
        "# Wrong\n",
        "print(\"encrypt 'She is listening', key='Pascal' =>\", HillCipher().encrypt('She is listening', 'Pascal'))\n",
        "print(\"decrypt 'hhwkswxslgntcg', key=pascal =>\", HillCipher().decrypt('hhwkswxslgntcg', 'pascal'))\n",
        "\n",
        "# Right\n",
        "keyword = \"\".join([num_to_ltr(x) for x in [9,7,11,13,4,7,5,6,2,21,14,9,3,23,21,8]])\n",
        "print(\"encrypt 'code is ready', key='\"+keyword+\"'\", HillCipher().g_encrypt('code is ready', keyword, 3))"
      ],
      "execution_count": 41,
      "outputs": [
        {
          "output_type": "stream",
          "text": [
            "encrypt 'She is listening', key='Pascal' => hhwkswxslgntcg\n",
            "decrypt 'hhwkswxslgntcg', key=pascal => sheislistening\n",
            "[[  92  267  218  169]\n",
            " [ 190  631  500  397]\n",
            " [ 135 1100  876  434]] [[ 2 14  3  4]\n",
            " [ 8 18 17  4]\n",
            " [ 0  3 24 25]] [[ 9  7 11 13]\n",
            " [ 4  7  5  6]\n",
            " [ 2 21 14  9]\n",
            " [ 3 23 21  8]]\n",
            "encrypt 'code is ready', key='jhlnehfgcvojdxvi' ohknihghfiss\n"
          ],
          "name": "stdout"
        }
      ]
    },
    {
      "cell_type": "code",
      "metadata": {
        "id": "ZWODMXTt5d2D",
        "colab_type": "code",
        "outputId": "bc212624-5a86-4928-bbee-e155edd849c6",
        "colab": {
          "base_uri": "https://localhost:8080/",
          "height": 34
        }
      },
      "source": [
        "keyword = \"\".join([num_to_ltr(x) for x in [9,7,11,13,4,7,5,6,2,21,14,9,3,23,21,8]])\n",
        "print(\"encrypt 'code is ready', key='\"+keyword+\"'\", HillCipher().encrypt('code is ready', keyword))"
      ],
      "execution_count": 42,
      "outputs": [
        {
          "output_type": "stream",
          "text": [
            "encrypt 'code is ready', key='jhlnehfgcvojdxvi' lvormzwkcym\n"
          ],
          "name": "stdout"
        }
      ]
    },
    {
      "cell_type": "code",
      "metadata": {
        "id": "HFKLZUv97V7q",
        "colab_type": "code",
        "outputId": "2f516ce3-ca01-4d07-c5ee-6d0ca8e2993d",
        "colab": {
          "base_uri": "https://localhost:8080/",
          "height": 34
        }
      },
      "source": [
        "#WRONG\n",
        "msg = 'We live in an insecure world'\n",
        "kw = ''.join([num_to_ltr(x) for x in [3,2,5,7]])\n",
        "print(\"encrypt '\"+msg+\"', key='\"+kw+\"' =>\", HillCipher().encrypt(msg, kw))"
      ],
      "execution_count": 43,
      "outputs": [
        {
          "output_type": "stream",
          "text": [
            "encrypt 'We live in an insecure world', key='dcfh' => zgqpygnudpnuvghbugbvuni\n"
          ],
          "name": "stdout"
        }
      ]
    },
    {
      "cell_type": "code",
      "metadata": {
        "id": "rTn7xTxWJrkv",
        "colab_type": "code",
        "outputId": "fd5ce4c1-51f1-4fb1-cb6d-b7835428e95e",
        "colab": {
          "base_uri": "https://localhost:8080/",
          "height": 461
        }
      },
      "source": [
        "#CORRECT\n",
        "msg = 'We live in an insecure world'\n",
        "kw = ''.join([num_to_ltr(x) for x in [3,5,2,7]])\n",
        "print(\"encrypt '\"+msg+\"', key='\"+kw+\"' =>\", HillCipher().g_encrypt(msg, kw, 12))\n",
        "dmsg = 'wixhtdybanybkouuhjqavghi'\n",
        "# print(\"decrypt '\"+dmsg+\"', key='\"+kw+\"' =>\", HillCipher().g_decrypt(dmsg, kw, 12))"
      ],
      "execution_count": 44,
      "outputs": [
        {
          "output_type": "stream",
          "text": [
            "[[ 74 138]\n",
            " [ 49 111]\n",
            " [ 71 133]\n",
            " [ 50 131]\n",
            " [ 26  91]\n",
            " [ 50 131]\n",
            " [ 62 118]\n",
            " [ 46 150]\n",
            " [ 59 113]\n",
            " [ 94 208]\n",
            " [ 73 162]\n",
            " [ 59 190]] [[22  4]\n",
            " [11  8]\n",
            " [21  4]\n",
            " [ 8 13]\n",
            " [ 0 13]\n",
            " [ 8 13]\n",
            " [18  4]\n",
            " [ 2 20]\n",
            " [17  4]\n",
            " [22 14]\n",
            " [17 11]\n",
            " [ 3 25]] [[3 5]\n",
            " [2 7]]\n",
            "encrypt 'We live in an insecure world', key='dfch' => wixhtdybanybkouuhjqavghi\n"
          ],
          "name": "stdout"
        }
      ]
    },
    {
      "cell_type": "markdown",
      "metadata": {
        "id": "cGU4eIXoskXY",
        "colab_type": "text"
      },
      "source": [
        "### One-Time Pad\n",
        "\n",
        "One of the goals of cryptography is perfect secrecy. A study by Shannon has shown that perfect secrecy can be achieved if each plaintext symbol is encrypted with a key randomly chosen from a key domain. This idea is used in a cipher called one-time pad, invented by Vernam. \n",
        "\n",
        "**Rotor Cipher**\n",
        "\n",
        "![Rotor Cipher](https://drive.google.com/uc?id=1A2rDoGlWifi7wKhaSdFiX0xIv-dyoHym)\n",
        "\n",
        "**Enigma Machine**\n",
        "\n",
        "![Enigma Machine](https://drive.google.com/uc?id=1_h6_VJbxLrGLarJUGItHCAB2EzR4aA68)\n",
        "\n"
      ]
    },
    {
      "cell_type": "markdown",
      "metadata": {
        "id": "TZhGuCyqV7Rc",
        "colab_type": "text"
      },
      "source": [
        "## Transposition Ciphers\n",
        "\n",
        "### Keyless Transposition Ciphers\n",
        "\n",
        "*Method 1:* \n",
        "- Text is written into a table column by column\n",
        "- transmitted row by row\n",
        "\n",
        "*Method 2:* \n",
        "- Text is written into a table row by row\n",
        "- transmitted column by column"
      ]
    },
    {
      "cell_type": "code",
      "metadata": {
        "id": "l4baqILtWSdG",
        "colab_type": "code",
        "outputId": "1ab3ebde-d1cd-48b7-f5e4-94fcc8916527",
        "colab": {
          "base_uri": "https://localhost:8080/",
          "height": 70
        }
      },
      "source": [
        "message = \"Meet me at the park\"\n",
        "message = message.lower().replace(\" \",'')\n",
        "print(message, len(message))\n",
        "# method 1\n",
        "print(message[0:15:2] + message[1:15:2])\n",
        "#method 2\n",
        "print(message[0:15:4] + message[1:15:4] + message[2:15:4] + message[3:15:4])"
      ],
      "execution_count": 45,
      "outputs": [
        {
          "output_type": "stream",
          "text": [
            "meetmeatthepark 15\n",
            "memateaketethpr\n",
            "mmtaeehreaekttp\n"
          ],
          "name": "stdout"
        }
      ]
    },
    {
      "cell_type": "markdown",
      "metadata": {
        "id": "m7Exb3BZbABq",
        "colab_type": "text"
      },
      "source": [
        "### Keyed Transposition Cipher"
      ]
    },
    {
      "cell_type": "code",
      "metadata": {
        "id": "6Z98YmkIYAkz",
        "colab_type": "code",
        "colab": {}
      },
      "source": [
        "class KeyedTranspositionCipher:\n",
        "  def encrypt(plaintext, group_size, key):\n",
        "    plaintext = plaintext.replace(' ','').lower()\n",
        "    z = 'z'*(group_size - len(plaintext)%group_size)\n",
        "    plaintext += z\n",
        "    key = [int(k) for k in key[1:len(key)-1].split(',')]\n",
        "    ciphertext = ''\n",
        "    for start in range(0, len(plaintext), group_size):\n",
        "      group = plaintext[start:start + group_size]\n",
        "      for k in key:\n",
        "        try:\n",
        "          ciphertext += group[k-1]\n",
        "        except:\n",
        "          pass\n",
        "    return ciphertext\n",
        "\n",
        "  def decrypt(ciphertext, group_size, key):\n",
        "    ciphertext = ciphertext.replace(' ','').lower()\n",
        "    key = [int(k) for k in key[1:len(key)-1].split(',')]\n",
        "    plaintext=''\n",
        "    for start in range(0, len(ciphertext), group_size):\n",
        "      group = ciphertext[start:start + group_size]\n",
        "      pgroup = 'zzzzz'\n",
        "      for k, i in enumerate(key):\n",
        "        try:\n",
        "          pgroup = pgroup[:i-1] + group[k] + pgroup[i:]\n",
        "          \n",
        "        except:\n",
        "          pass\n",
        "      plaintext += pgroup\n",
        "    return plaintext\n",
        "\n",
        "\n"
      ],
      "execution_count": 0,
      "outputs": []
    },
    {
      "cell_type": "code",
      "metadata": {
        "id": "Ev_zmt8taHsD",
        "colab_type": "code",
        "colab": {}
      },
      "source": [
        "#@title Encryption - Decryption Key\n",
        "#@markdown #### Encryption\n",
        "\n",
        "plaintext = 'Enemy attacks tonight'  #@param {type: \"string\"}\n",
        "group_size =   5  #@param {type: \"number\"}\n",
        "key = '[3,1,4,5,2]'   #@param {type: \"string\"}\n",
        "#@markdown ---\n",
        "\n",
        "\n",
        "#@markdown #### Decryption\n",
        "\n",
        "ciphertext = 'eemyntaacttkonshitzg'  #@param {type: \"string\"}\n",
        "group_size =   5  #@param {type: \"number\"}\n",
        "key = '[3,1,4,5,2]'   #@param {type: \"string\"}\n",
        "#@markdown ---\n"
      ],
      "execution_count": 0,
      "outputs": []
    },
    {
      "cell_type": "code",
      "metadata": {
        "id": "cJIiIzI8lnab",
        "colab_type": "code",
        "outputId": "7416d94d-023c-48c7-9a6a-737edeea7381",
        "colab": {
          "base_uri": "https://localhost:8080/",
          "height": 52
        }
      },
      "source": [
        "print('Ciphertext',KeyedTranspositionCipher.encrypt(plaintext, group_size, key))\n",
        "print('Plaintext',KeyedTranspositionCipher.decrypt(ciphertext, group_size, key))"
      ],
      "execution_count": 48,
      "outputs": [
        {
          "output_type": "stream",
          "text": [
            "Ciphertext eemyntaacttkonshitzg\n",
            "Plaintext enemyattackstonightz\n"
          ],
          "name": "stdout"
        }
      ]
    },
    {
      "cell_type": "markdown",
      "metadata": {
        "id": "G8F1Q1ZIgJji",
        "colab_type": "text"
      },
      "source": [
        "Combining Keyless and keyes transposition"
      ]
    },
    {
      "cell_type": "code",
      "metadata": {
        "id": "f7gtTpDwgeei",
        "colab_type": "code",
        "outputId": "c5a1375d-1718-4c5d-dc32-11b2990c1681",
        "colab": {
          "base_uri": "https://localhost:8080/",
          "height": 34
        }
      },
      "source": [
        "print('Ciphertext',KeyedTranspositionCipher.encrypt(plaintext, group_size, key))"
      ],
      "execution_count": 49,
      "outputs": [
        {
          "output_type": "stream",
          "text": [
            "Ciphertext eemyntaacttkonshitzg\n"
          ],
          "name": "stdout"
        }
      ]
    },
    {
      "cell_type": "markdown",
      "metadata": {
        "id": "0JNncc0DtwkS",
        "colab_type": "text"
      },
      "source": [
        "### Using Matrices\n",
        "\n",
        "### Double transposition cipher"
      ]
    },
    {
      "cell_type": "code",
      "metadata": {
        "id": "Gpf2aoWDt0sY",
        "colab_type": "code",
        "colab": {}
      },
      "source": [
        ""
      ],
      "execution_count": 0,
      "outputs": []
    },
    {
      "cell_type": "markdown",
      "metadata": {
        "id": "7m852HP6t-QP",
        "colab_type": "text"
      },
      "source": [
        "## Stream and Block Ciphers\n",
        "\n",
        "### Stream cipher\n",
        "![stream cipher](https://drive.google.com/uc?id=1TyAt8Ij80GfKxQRenWE1LGJIgHL5Z7UA)\n",
        "\n",
        "$P = P_1P_2P_3...$\n",
        "\n",
        "$C = C_1C_2C_3...$\n",
        "\n",
        "$K = (k1,k2,k3,...)$\n",
        "\n",
        "$C_i = E_k(P_i)$\n",
        "\n",
        "#### Examples\n",
        "- *Additive cipher* $K=(k,k,...)$ [**Monoalphabetic**]\n",
        "- *Monoalphabetic substitution cipher* \n",
        "- *Vignere cipher*  $K=(k_1,k_2,...k_m, k_2,....k_m, ...)$ [**Polyalphabetic**]\n",
        "- We can say that a stream cipher is a monoalphabetic cipher if the value of ki does not depend on the position of the plaintext character in the plaintext stream; otherwise, the cipher is polyalphabetic\n",
        "\n",
        "### Block cipher\n",
        "In a block cipher, a group of plaintext symbols of size m (m > 1) are encrypted together creating a group of ciphertext of the same size. A single key is used to encrypt the whole block even if the key is made of multiple values\n",
        "![block cipher](https://drive.google.com/uc?id=1CUcep_h1eh8N9-c8XBM1h4DerUKSkSjN)\n",
        "\n",
        "#### Examples\n",
        "- *Playfair cipher* block size m=2\n",
        "- *Hill cipher* block size, m>=2, singel key (m*m matrix)\n",
        "- *polyalphabetic cipher*\n",
        "\n",
        "### Combination\n",
        "In practice, blocks of plaintext are encrypted individually, but they use a stream of keys to encrypt the whole message block by block. In other words, the cipher is a block cipher when looking at the individual blocks, but it is a stream cipher when looking at the whole message considering each block as a single unit. \n"
      ]
    },
    {
      "cell_type": "code",
      "metadata": {
        "id": "dCuqm23G4-2b",
        "colab_type": "code",
        "colab": {}
      },
      "source": [
        ""
      ],
      "execution_count": 0,
      "outputs": []
    },
    {
      "cell_type": "code",
      "metadata": {
        "id": "0fdPgHcY5E7K",
        "colab_type": "code",
        "colab": {}
      },
      "source": [
        ""
      ],
      "execution_count": 0,
      "outputs": []
    }
  ]
}